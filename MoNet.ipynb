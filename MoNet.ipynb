{
  "nbformat": 4,
  "nbformat_minor": 0,
  "metadata": {
    "colab": {
      "name": "MoNet.ipynb",
      "provenance": [],
      "authorship_tag": "ABX9TyMou2YkZGiIN2MTa4qKQ1cK",
      "include_colab_link": true
    },
    "kernelspec": {
      "name": "python3",
      "display_name": "Python 3"
    },
    "accelerator": "GPU"
  },
  "cells": [
    {
      "cell_type": "markdown",
      "metadata": {
        "id": "view-in-github",
        "colab_type": "text"
      },
      "source": [
        "<a href=\"https://colab.research.google.com/github/sebaspv/MoNet/blob/main/MoNet.ipynb\" target=\"_parent\"><img src=\"https://colab.research.google.com/assets/colab-badge.svg\" alt=\"Open In Colab\"/></a>"
      ]
    },
    {
      "cell_type": "code",
      "metadata": {
        "colab": {
          "base_uri": "https://localhost:8080/"
        },
        "id": "gd28Lck6OKjw",
        "outputId": "f48b65fc-7448-4c92-9bea-e3e412e502d0"
      },
      "source": [
        "from google.colab import drive\r\n",
        "drive.mount('/content/drive', force_remount=True)"
      ],
      "execution_count": 1,
      "outputs": [
        {
          "output_type": "stream",
          "text": [
            "Mounted at /content/drive\n"
          ],
          "name": "stdout"
        }
      ]
    },
    {
      "cell_type": "code",
      "metadata": {
        "id": "tedwX4aIQDWm"
      },
      "source": [
        "import tensorflow as tf\r\n",
        "from tensorflow.keras.layers import Input, Reshape, Dropout, Dense \r\n",
        "from tensorflow.keras.layers import Flatten, BatchNormalization\r\n",
        "from tensorflow.keras.layers import Activation, ZeroPadding2D\r\n",
        "from tensorflow.keras.layers import LeakyReLU\r\n",
        "from tensorflow.keras.layers import UpSampling2D, Conv2D\r\n",
        "from tensorflow.keras.models import Sequential, Model, load_model\r\n",
        "from tensorflow.keras.optimizers import Adam\r\n",
        "import numpy as np\r\n",
        "from PIL import Image\r\n",
        "from tqdm import tqdm\r\n",
        "import os \r\n",
        "import time\r\n",
        "import matplotlib.pyplot as plt"
      ],
      "execution_count": 2,
      "outputs": []
    },
    {
      "cell_type": "code",
      "metadata": {
        "id": "0OtOn_ndSp5u"
      },
      "source": [
        "# image definition constants\r\n",
        "GEN_RES = 2\r\n",
        "GEN_SQUARE = 32*GEN_RES # 96*96 images\r\n",
        "COLOR_CHANNELS = 3\r\n",
        "\r\n",
        "PR_ROWS = 4\r\n",
        "PR_COLS = 7\r\n",
        "PR_MARGIN = 16\r\n",
        "\r\n",
        "SEED_SIZE = 100 # vector size\r\n",
        "\r\n",
        "DATA_PATH = '/content/drive/My Drive/monet'\r\n",
        "EPOCHS = 100\r\n",
        "BATCH_SIZE = 32\r\n",
        "BUFFER_SIZE = 60000\r\n"
      ],
      "execution_count": 3,
      "outputs": []
    },
    {
      "cell_type": "code",
      "metadata": {
        "colab": {
          "base_uri": "https://localhost:8080/"
        },
        "id": "boD-SdM0cWPe",
        "outputId": "554f281d-d143-4e02-ac0f-8e9231598269"
      },
      "source": [
        "# preprocess image data\r\n",
        "training_binary_path = os.path.join(DATA_PATH,\r\n",
        "        f'training_data_{GEN_SQUARE}_{GEN_SQUARE}.npy')\r\n",
        "\r\n",
        "print(f\"Looking for file: {training_binary_path}\")\r\n",
        "\r\n",
        "if not os.path.isfile(training_binary_path):\r\n",
        "  start = time.time()\r\n",
        "  print(\"Loading training images...\")\r\n",
        "\r\n",
        "  training_data = []\r\n",
        "  monet_path = DATA_PATH\r\n",
        "  for filename in tqdm(os.listdir(monet_path)):\r\n",
        "      path = os.path.join(monet_path,filename)\r\n",
        "      image = Image.open(path).resize((GEN_SQUARE,GEN_SQUARE),Image.ANTIALIAS)\r\n",
        "      training_data.append(np.asarray(image))\r\n",
        "  training_data = np.reshape(training_data,(-1,GEN_SQUARE,GEN_SQUARE,COLOR_CHANNELS))\r\n",
        "  training_data = training_data.astype(np.float32)\r\n",
        "  training_data = training_data / 127.5 - 1.\r\n",
        "\r\n",
        "\r\n",
        "  print(\"Saving training image binary...\")\r\n",
        "  np.save(training_binary_path,training_data)\r\n",
        "  elapsed = time.time()-start\r\n",
        "else:\r\n",
        "  print(\"Loading previous training pickle...\")\r\n",
        "  training_data = np.load(training_binary_path)"
      ],
      "execution_count": 4,
      "outputs": [
        {
          "output_type": "stream",
          "text": [
            "Looking for file: /content/drive/My Drive/monet/training_data_64_64.npy\n",
            "Loading previous training pickle...\n"
          ],
          "name": "stdout"
        }
      ]
    },
    {
      "cell_type": "code",
      "metadata": {
        "id": "1FyecVY4dzke"
      },
      "source": [
        "full_dataset = tf.data.Dataset.from_tensor_slices(training_data) \\\r\n",
        "    .shuffle(BUFFER_SIZE).batch(BATCH_SIZE)"
      ],
      "execution_count": 5,
      "outputs": []
    },
    {
      "cell_type": "code",
      "metadata": {
        "id": "S4wobymgdUuT"
      },
      "source": [
        "def generator_build(size_seed, channels):\r\n",
        "  model = Sequential()\r\n",
        "  model.add(Dense(4096, activation = 'relu', input_dim = size_seed))\r\n",
        "  model.add(Reshape((4, 4, 256)))\r\n",
        "  model.add(UpSampling2D())\r\n",
        "  model.add(Conv2D(256, kernel_size = (3, 3), padding = 'same'))\r\n",
        "  model.add(BatchNormalization(momentum = 0.8))\r\n",
        "  model.add(Activation('relu')) # activation after batch normalization\r\n",
        "  model.add(UpSampling2D())\r\n",
        "  model.add(Conv2D(256, kernel_size = (3, 3), padding = 'same'))\r\n",
        "  model.add(BatchNormalization(momentum = 0.8))\r\n",
        "  model.add(Activation('relu'))\r\n",
        "\r\n",
        "  # output block\r\n",
        "  model.add(UpSampling2D())\r\n",
        "  model.add(Conv2D(128,kernel_size=3,padding=\"same\"))\r\n",
        "  model.add(BatchNormalization(momentum=0.8))\r\n",
        "  model.add(Activation(\"relu\"))\r\n",
        "\r\n",
        "  model.add(UpSampling2D(size=(GEN_RES,GEN_RES)))\r\n",
        "  model.add(Conv2D(128,kernel_size=3,padding=\"same\"))\r\n",
        "  model.add(BatchNormalization(momentum=0.8))\r\n",
        "  model.add(Activation(\"relu\"))\r\n",
        "\r\n",
        "  # final layer\r\n",
        "  model.add(Conv2D(channels,kernel_size=3,padding=\"same\"))\r\n",
        "  model.add(Activation(\"tanh\"))\r\n",
        "\r\n",
        "  return model"
      ],
      "execution_count": 6,
      "outputs": []
    },
    {
      "cell_type": "code",
      "metadata": {
        "id": "J_JvP4vvmIu-"
      },
      "source": [
        "def build_discriminator(image_shape):\r\n",
        "  model = Sequential()\r\n",
        "  model.add(Conv2D(32, kernel_size = (3, 3), input_shape = image_shape, padding = 'same'))\r\n",
        "  model.add(LeakyReLU(alpha = 0.2)) # leaky relu works better for discriminators\r\n",
        "  model.add(Dropout(0.25))\r\n",
        "\r\n",
        "  model.add(Conv2D(64, kernel_size = (3, 3), strides = (2, 2), padding = 'same'))\r\n",
        "  model.add(ZeroPadding2D(padding = ((0,1),(0,1))))\r\n",
        "  model.add(BatchNormalization(momentum = 0.8))\r\n",
        "  model.add(LeakyReLU(alpha = 0.2))\r\n",
        "\r\n",
        "  model.add(Dropout(0.25))\r\n",
        "  model.add(Conv2D(128, kernel_size = (3, 3), strides = (2, 2), padding=\"same\"))\r\n",
        "  model.add(BatchNormalization(momentum=0.8))\r\n",
        "  model.add(LeakyReLU(alpha=0.2))\r\n",
        "\r\n",
        "  model.add(Dropout(0.25))\r\n",
        "  model.add(Conv2D(256, kernel_size=3, strides=2, padding=\"same\"))\r\n",
        "  model.add(BatchNormalization(momentum=0.8))\r\n",
        "  model.add(LeakyReLU(alpha=0.2))\r\n",
        "\r\n",
        "  model.add(Dropout(0.25))\r\n",
        "  model.add(Conv2D(512, kernel_size=3, strides=2, padding=\"same\"))\r\n",
        "  model.add(BatchNormalization(momentum=0.8))\r\n",
        "  model.add(LeakyReLU(alpha=0.2))\r\n",
        "\r\n",
        "  # final block\r\n",
        "  model.add(Dropout(0.25))\r\n",
        "  model.add(Flatten())\r\n",
        "  # final decision layer\r\n",
        "  model.add(Dense(1, activation='sigmoid'))\r\n",
        "\r\n",
        "  return model"
      ],
      "execution_count": 7,
      "outputs": []
    },
    {
      "cell_type": "code",
      "metadata": {
        "id": "SPXtUznRySi2"
      },
      "source": [
        "def save_images(cnt,noise):\r\n",
        "  image_array = np.full(( \r\n",
        "      PR_MARGIN + (PR_ROWS * (GEN_SQUARE+PR_MARGIN)), \r\n",
        "      PR_MARGIN + (PR_COLS * (GEN_SQUARE+PR_MARGIN)), 3), \r\n",
        "      255, dtype=np.uint8)\r\n",
        "  \r\n",
        "  generated_images = generator.predict(noise)\r\n",
        "\r\n",
        "  generated_images = 0.5 * generated_images + 0.5\r\n",
        "\r\n",
        "  image_count = 0\r\n",
        "  for row in range(PR_ROWS):\r\n",
        "      for col in range(PR_COLS):\r\n",
        "        r = row * (GEN_SQUARE+16) + PR_MARGIN\r\n",
        "        c = col * (GEN_SQUARE+16) + PR_MARGIN\r\n",
        "        image_array[r:r+GEN_SQUARE,c:c+GEN_SQUARE] \\\r\n",
        "            = generated_images[image_count] * 255\r\n",
        "        image_count += 1\r\n",
        "\r\n",
        "          \r\n",
        "  output_path = os.path.join(DATA_PATH,'output')\r\n",
        "  if not os.path.exists(output_path):\r\n",
        "    os.makedirs(output_path)\r\n",
        "  \r\n",
        "  filename = os.path.join(output_path,f\"train-{cnt}.png\")\r\n",
        "  im = Image.fromarray(image_array)\r\n",
        "  im.save(filename)"
      ],
      "execution_count": 8,
      "outputs": []
    },
    {
      "cell_type": "code",
      "metadata": {
        "colab": {
          "base_uri": "https://localhost:8080/",
          "height": 286
        },
        "id": "Qx939yg6yypm",
        "outputId": "c1ade350-7ca4-4d99-881f-28c0c0c1159e"
      },
      "source": [
        "generator = generator_build(SEED_SIZE, COLOR_CHANNELS)\r\n",
        "\r\n",
        "noise = tf.random.normal([1, SEED_SIZE])\r\n",
        "generated_image = generator(noise, training=False)\r\n",
        "\r\n",
        "plt.imshow(generated_image[0, :, :, 0])\r\n",
        "# output of not trained generator"
      ],
      "execution_count": 9,
      "outputs": [
        {
          "output_type": "execute_result",
          "data": {
            "text/plain": [
              "<matplotlib.image.AxesImage at 0x7fc374d62470>"
            ]
          },
          "metadata": {
            "tags": []
          },
          "execution_count": 9
        },
        {
          "output_type": "display_data",
          "data": {
            "image/png": "[encoded data removed]",
            "text/plain": [
              "<Figure size 432x288 with 1 Axes>"
            ]
          },
          "metadata": {
            "tags": [],
            "needs_background": "light"
          }
        }
      ]
    },
    {
      "cell_type": "code",
      "metadata": {
        "colab": {
          "base_uri": "https://localhost:8080/"
        },
        "id": "Amj6QjEny6NI",
        "outputId": "33169e5c-158d-4ddd-bb4d-35e1ee7cd33e"
      },
      "source": [
        "image_shape = (GEN_SQUARE,GEN_SQUARE,COLOR_CHANNELS)\r\n",
        "\r\n",
        "discriminator = build_discriminator(image_shape)\r\n",
        "decision = discriminator(generated_image)\r\n",
        "print(decision) # decision over the generator's not trained image"
      ],
      "execution_count": 10,
      "outputs": [
        {
          "output_type": "stream",
          "text": [
            "tf.Tensor([[0.49908483]], shape=(1, 1), dtype=float32)\n"
          ],
          "name": "stdout"
        }
      ]
    },
    {
      "cell_type": "code",
      "metadata": {
        "id": "zUDdrpcqzWhq"
      },
      "source": [
        "cross_entropy = tf.keras.losses.BinaryCrossentropy()\r\n",
        "\r\n",
        "def discriminator_loss(real_output, fake_output):\r\n",
        "    real_loss = cross_entropy(tf.ones_like(real_output), real_output)\r\n",
        "    fake_loss = cross_entropy(tf.zeros_like(fake_output), fake_output)\r\n",
        "    total_loss = real_loss + fake_loss\r\n",
        "    return total_loss\r\n",
        "\r\n",
        "def generator_loss(fake_output):\r\n",
        "    return cross_entropy(tf.ones_like(fake_output), fake_output)\r\n",
        "\r\n",
        "# loss functions for the generator and discriminator"
      ],
      "execution_count": 11,
      "outputs": []
    },
    {
      "cell_type": "code",
      "metadata": {
        "id": "4pPSeV8W5VNy"
      },
      "source": [
        "generator_optimizer = tf.keras.optimizers.Adam(0.00015,0.5)\r\n",
        "discriminator_optimizer = tf.keras.optimizers.Adam(0.00015,0.5)"
      ],
      "execution_count": 12,
      "outputs": []
    },
    {
      "cell_type": "code",
      "metadata": {
        "id": "Sau-N8I458ht"
      },
      "source": [
        "@tf.function\r\n",
        "def train_step(images):\r\n",
        "  seed = tf.random.normal([BATCH_SIZE, SEED_SIZE])\r\n",
        "\r\n",
        "  with tf.GradientTape() as gen_tape, tf.GradientTape() as disc_tape:\r\n",
        "    generated_images = generator(seed, training=True)\r\n",
        "\r\n",
        "    real_output = discriminator(images, training=True)\r\n",
        "    fake_output = discriminator(generated_images, training=True)\r\n",
        "\r\n",
        "    gen_loss = generator_loss(fake_output)\r\n",
        "    disc_loss = discriminator_loss(real_output, fake_output)\r\n",
        "    \r\n",
        "\r\n",
        "    gradients_of_generator = gen_tape.gradient(\\\r\n",
        "        gen_loss, generator.trainable_variables)\r\n",
        "    gradients_of_discriminator = disc_tape.gradient(\\\r\n",
        "        disc_loss, discriminator.trainable_variables)\r\n",
        "\r\n",
        "    generator_optimizer.apply_gradients(zip(\r\n",
        "        gradients_of_generator, generator.trainable_variables))\r\n",
        "    discriminator_optimizer.apply_gradients(zip(\r\n",
        "        gradients_of_discriminator, \r\n",
        "        discriminator.trainable_variables))\r\n",
        "  return gen_loss,disc_loss"
      ],
      "execution_count": 13,
      "outputs": []
    },
    {
      "cell_type": "code",
      "metadata": {
        "id": "kB7Lpqyy6_OV"
      },
      "source": [
        "# measure training time\r\n",
        "def hms_string(sec_elapsed):\r\n",
        "    h = int(sec_elapsed / (60 * 60))\r\n",
        "    m = int((sec_elapsed % (60 * 60)) / 60)\r\n",
        "    s = sec_elapsed % 60\r\n",
        "    return \"{}:{:>02}:{:>05.2f}\".format(h, m, s)"
      ],
      "execution_count": 14,
      "outputs": []
    },
    {
      "cell_type": "code",
      "metadata": {
        "id": "TBMo3J5G7HJP"
      },
      "source": [
        "\r\n",
        "\r\n",
        "def train(dataset, epochs):\r\n",
        "  fixed_seed = np.random.normal(0, 1, (PR_ROWS * PR_COLS, \r\n",
        "                                       SEED_SIZE))\r\n",
        "  start = time.time()\r\n",
        "\r\n",
        "  for epoch in range(epochs):\r\n",
        "    epoch_start = time.time()\r\n",
        "\r\n",
        "    gen_loss_list = []\r\n",
        "    disc_loss_list = []\r\n",
        "\r\n",
        "    for image_batch in dataset:\r\n",
        "      t = train_step(image_batch)\r\n",
        "      gen_loss_list.append(t[0])\r\n",
        "      disc_loss_list.append(t[1])\r\n",
        "\r\n",
        "    g_loss = sum(gen_loss_list) / len(gen_loss_list)\r\n",
        "    d_loss = sum(disc_loss_list) / len(disc_loss_list)\r\n",
        "\r\n",
        "    epoch_elapsed = time.time()-epoch_start\r\n",
        "    print (f'Epoch {epoch+1}, gen loss={g_loss},disc loss={d_loss},'\\\r\n",
        "           ' {hms_string(epoch_elapsed)}')\r\n",
        "    save_images(epoch,fixed_seed)\r\n",
        "\r\n",
        "  elapsed = time.time()-start\r\n",
        "  time_passed = hms_string(elapsed)\r\n",
        "  print (f'Training time: {time_passed}')\r\n",
        "\r\n"
      ],
      "execution_count": 15,
      "outputs": []
    },
    {
      "cell_type": "code",
      "metadata": {
        "colab": {
          "base_uri": "https://localhost:8080/"
        },
        "id": "0UrfiQ2m7OtK",
        "outputId": "a2989015-7de3-4344-e76b-43f46d0f7e5b"
      },
      "source": [
        "train(full_dataset, EPOCHS)"
      ],
      "execution_count": 16,
      "outputs": [
        {
          "output_type": "stream",
          "text": [
            "Epoch 1, gen loss=1.492239236831665,disc loss=1.1680930852890015, {hms_string(epoch_elapsed)}\n",
            "Epoch 2, gen loss=2.011931896209717,disc loss=1.156425952911377, {hms_string(epoch_elapsed)}\n",
            "Epoch 3, gen loss=2.0850937366485596,disc loss=1.03692626953125, {hms_string(epoch_elapsed)}\n",
            "Epoch 4, gen loss=2.1516261100769043,disc loss=0.8889337778091431, {hms_string(epoch_elapsed)}\n",
            "Epoch 5, gen loss=2.4447455406188965,disc loss=0.8348783850669861, {hms_string(epoch_elapsed)}\n",
            "Epoch 6, gen loss=1.5848560333251953,disc loss=1.364079236984253, {hms_string(epoch_elapsed)}\n",
            "Epoch 7, gen loss=1.6595146656036377,disc loss=1.3984894752502441, {hms_string(epoch_elapsed)}\n",
            "Epoch 8, gen loss=1.1004832983016968,disc loss=1.4638794660568237, {hms_string(epoch_elapsed)}\n",
            "Epoch 9, gen loss=1.3984780311584473,disc loss=0.9913135170936584, {hms_string(epoch_elapsed)}\n",
            "Epoch 10, gen loss=1.195038080215454,disc loss=1.1163159608840942, {hms_string(epoch_elapsed)}\n",
            "Epoch 11, gen loss=1.6812254190444946,disc loss=1.2699261903762817, {hms_string(epoch_elapsed)}\n",
            "Epoch 12, gen loss=1.4196953773498535,disc loss=1.1362342834472656, {hms_string(epoch_elapsed)}\n",
            "Epoch 13, gen loss=1.1283096075057983,disc loss=1.207063913345337, {hms_string(epoch_elapsed)}\n",
            "Epoch 14, gen loss=1.1262470483779907,disc loss=1.3656840324401855, {hms_string(epoch_elapsed)}\n",
            "Epoch 15, gen loss=1.1062358617782593,disc loss=1.2634278535842896, {hms_string(epoch_elapsed)}\n",
            "Epoch 16, gen loss=1.1598396301269531,disc loss=1.2819347381591797, {hms_string(epoch_elapsed)}\n",
            "Epoch 17, gen loss=1.0638903379440308,disc loss=1.346237063407898, {hms_string(epoch_elapsed)}\n",
            "Epoch 18, gen loss=0.9849129915237427,disc loss=1.4653387069702148, {hms_string(epoch_elapsed)}\n",
            "Epoch 19, gen loss=0.9410769939422607,disc loss=1.4620224237442017, {hms_string(epoch_elapsed)}\n",
            "Epoch 20, gen loss=0.8935462832450867,disc loss=1.5143870115280151, {hms_string(epoch_elapsed)}\n",
            "Epoch 21, gen loss=0.8960891366004944,disc loss=1.4304206371307373, {hms_string(epoch_elapsed)}\n",
            "Epoch 22, gen loss=0.9137139320373535,disc loss=1.3872171640396118, {hms_string(epoch_elapsed)}\n",
            "Epoch 23, gen loss=0.9822221994400024,disc loss=1.3066010475158691, {hms_string(epoch_elapsed)}\n",
            "Epoch 24, gen loss=1.0265761613845825,disc loss=1.3116577863693237, {hms_string(epoch_elapsed)}\n",
            "Epoch 25, gen loss=1.0486114025115967,disc loss=1.2134664058685303, {hms_string(epoch_elapsed)}\n",
            "Epoch 26, gen loss=1.1740652322769165,disc loss=1.2415155172348022, {hms_string(epoch_elapsed)}\n",
            "Epoch 27, gen loss=1.2369303703308105,disc loss=1.1187869310379028, {hms_string(epoch_elapsed)}\n",
            "Epoch 28, gen loss=1.42604660987854,disc loss=1.0294462442398071, {hms_string(epoch_elapsed)}\n",
            "Epoch 29, gen loss=1.6467084884643555,disc loss=0.9530524015426636, {hms_string(epoch_elapsed)}\n",
            "Epoch 30, gen loss=2.1497836112976074,disc loss=0.6610111594200134, {hms_string(epoch_elapsed)}\n",
            "Epoch 31, gen loss=1.56464421749115,disc loss=1.3742610216140747, {hms_string(epoch_elapsed)}\n",
            "Epoch 32, gen loss=1.1055434942245483,disc loss=1.258981704711914, {hms_string(epoch_elapsed)}\n",
            "Epoch 33, gen loss=1.2196853160858154,disc loss=1.1099631786346436, {hms_string(epoch_elapsed)}\n",
            "Epoch 34, gen loss=1.2502700090408325,disc loss=1.1689608097076416, {hms_string(epoch_elapsed)}\n",
            "Epoch 35, gen loss=1.237831473350525,disc loss=1.2800285816192627, {hms_string(epoch_elapsed)}\n",
            "Epoch 36, gen loss=1.252183198928833,disc loss=1.2006473541259766, {hms_string(epoch_elapsed)}\n",
            "Epoch 37, gen loss=1.2534412145614624,disc loss=1.186216115951538, {hms_string(epoch_elapsed)}\n",
            "Epoch 38, gen loss=1.262414574623108,disc loss=1.1427558660507202, {hms_string(epoch_elapsed)}\n",
            "Epoch 39, gen loss=1.272030234336853,disc loss=1.0878862142562866, {hms_string(epoch_elapsed)}\n",
            "Epoch 40, gen loss=1.2551077604293823,disc loss=1.2329494953155518, {hms_string(epoch_elapsed)}\n",
            "Epoch 41, gen loss=1.1576606035232544,disc loss=1.2013417482376099, {hms_string(epoch_elapsed)}\n",
            "Epoch 42, gen loss=1.1374763250350952,disc loss=1.2249587774276733, {hms_string(epoch_elapsed)}\n",
            "Epoch 43, gen loss=1.231937050819397,disc loss=1.1625711917877197, {hms_string(epoch_elapsed)}\n",
            "Epoch 44, gen loss=1.1851662397384644,disc loss=1.2235829830169678, {hms_string(epoch_elapsed)}\n",
            "Epoch 45, gen loss=1.194758415222168,disc loss=1.1317806243896484, {hms_string(epoch_elapsed)}\n",
            "Epoch 46, gen loss=1.2542500495910645,disc loss=1.2068686485290527, {hms_string(epoch_elapsed)}\n",
            "Epoch 47, gen loss=1.252168893814087,disc loss=1.187211036682129, {hms_string(epoch_elapsed)}\n",
            "Epoch 48, gen loss=1.2679142951965332,disc loss=1.1070077419281006, {hms_string(epoch_elapsed)}\n",
            "Epoch 49, gen loss=1.2993496656417847,disc loss=1.0932493209838867, {hms_string(epoch_elapsed)}\n",
            "Epoch 50, gen loss=1.2640587091445923,disc loss=1.1153916120529175, {hms_string(epoch_elapsed)}\n",
            "Epoch 51, gen loss=1.2851389646530151,disc loss=1.1326228380203247, {hms_string(epoch_elapsed)}\n",
            "Epoch 52, gen loss=1.3043603897094727,disc loss=1.1040561199188232, {hms_string(epoch_elapsed)}\n",
            "Epoch 53, gen loss=1.2620723247528076,disc loss=1.1201820373535156, {hms_string(epoch_elapsed)}\n",
            "Epoch 54, gen loss=1.2449623346328735,disc loss=1.1195892095565796, {hms_string(epoch_elapsed)}\n",
            "Epoch 55, gen loss=1.347479224205017,disc loss=1.0891914367675781, {hms_string(epoch_elapsed)}\n",
            "Epoch 56, gen loss=1.3216511011123657,disc loss=1.0727630853652954, {hms_string(epoch_elapsed)}\n",
            "Epoch 57, gen loss=1.2295620441436768,disc loss=1.1348012685775757, {hms_string(epoch_elapsed)}\n",
            "Epoch 58, gen loss=1.2722079753875732,disc loss=1.1307677030563354, {hms_string(epoch_elapsed)}\n",
            "Epoch 59, gen loss=1.3096637725830078,disc loss=1.0837856531143188, {hms_string(epoch_elapsed)}\n",
            "Epoch 60, gen loss=1.3807716369628906,disc loss=1.0861982107162476, {hms_string(epoch_elapsed)}\n",
            "Epoch 61, gen loss=1.4834095239639282,disc loss=0.969956636428833, {hms_string(epoch_elapsed)}\n",
            "Epoch 62, gen loss=1.4191758632659912,disc loss=1.014522671699524, {hms_string(epoch_elapsed)}\n",
            "Epoch 63, gen loss=1.4057697057724,disc loss=1.0718191862106323, {hms_string(epoch_elapsed)}\n",
            "Epoch 64, gen loss=1.543897271156311,disc loss=0.9748348593711853, {hms_string(epoch_elapsed)}\n",
            "Epoch 65, gen loss=1.6509994268417358,disc loss=0.9807435274124146, {hms_string(epoch_elapsed)}\n",
            "Epoch 66, gen loss=1.6436582803726196,disc loss=0.8882714509963989, {hms_string(epoch_elapsed)}\n",
            "Epoch 67, gen loss=1.7066506147384644,disc loss=0.9828375577926636, {hms_string(epoch_elapsed)}\n",
            "Epoch 68, gen loss=1.6664260625839233,disc loss=1.0257388353347778, {hms_string(epoch_elapsed)}\n",
            "Epoch 69, gen loss=1.6403650045394897,disc loss=1.082128643989563, {hms_string(epoch_elapsed)}\n",
            "Epoch 70, gen loss=1.640542984008789,disc loss=1.0033507347106934, {hms_string(epoch_elapsed)}\n",
            "Epoch 71, gen loss=1.3890252113342285,disc loss=1.1118276119232178, {hms_string(epoch_elapsed)}\n",
            "Epoch 72, gen loss=1.529768705368042,disc loss=0.9598016142845154, {hms_string(epoch_elapsed)}\n",
            "Epoch 73, gen loss=1.4901559352874756,disc loss=0.9755247831344604, {hms_string(epoch_elapsed)}\n",
            "Epoch 74, gen loss=1.4795020818710327,disc loss=1.0284793376922607, {hms_string(epoch_elapsed)}\n",
            "Epoch 75, gen loss=1.5130828619003296,disc loss=0.9896221160888672, {hms_string(epoch_elapsed)}\n",
            "Epoch 76, gen loss=1.4425888061523438,disc loss=0.9903814196586609, {hms_string(epoch_elapsed)}\n",
            "Epoch 77, gen loss=1.465543270111084,disc loss=1.0075345039367676, {hms_string(epoch_elapsed)}\n",
            "Epoch 78, gen loss=1.4703271389007568,disc loss=0.9728252291679382, {hms_string(epoch_elapsed)}\n",
            "Epoch 79, gen loss=1.6290583610534668,disc loss=0.9105035662651062, {hms_string(epoch_elapsed)}\n",
            "Epoch 80, gen loss=1.519544243812561,disc loss=0.9601925015449524, {hms_string(epoch_elapsed)}\n",
            "Epoch 81, gen loss=1.6840503215789795,disc loss=0.9335946440696716, {hms_string(epoch_elapsed)}\n",
            "Epoch 82, gen loss=1.6392110586166382,disc loss=0.8592708110809326, {hms_string(epoch_elapsed)}\n",
            "Epoch 83, gen loss=1.5954060554504395,disc loss=0.950629711151123, {hms_string(epoch_elapsed)}\n",
            "Epoch 84, gen loss=1.626734972000122,disc loss=0.8784276843070984, {hms_string(epoch_elapsed)}\n",
            "Epoch 85, gen loss=1.5810987949371338,disc loss=0.8748358488082886, {hms_string(epoch_elapsed)}\n",
            "Epoch 86, gen loss=1.6035884618759155,disc loss=0.8653934001922607, {hms_string(epoch_elapsed)}\n",
            "Epoch 87, gen loss=1.716955304145813,disc loss=0.8917675018310547, {hms_string(epoch_elapsed)}\n",
            "Epoch 88, gen loss=1.6003555059432983,disc loss=0.9064781069755554, {hms_string(epoch_elapsed)}\n",
            "Epoch 89, gen loss=1.8093197345733643,disc loss=0.7770616412162781, {hms_string(epoch_elapsed)}\n",
            "Epoch 90, gen loss=1.8724799156188965,disc loss=0.812074601650238, {hms_string(epoch_elapsed)}\n",
            "Epoch 91, gen loss=1.9930683374404907,disc loss=0.7330510020256042, {hms_string(epoch_elapsed)}\n",
            "Epoch 92, gen loss=1.8318188190460205,disc loss=0.7824009656906128, {hms_string(epoch_elapsed)}\n",
            "Epoch 93, gen loss=1.9240866899490356,disc loss=0.776755154132843, {hms_string(epoch_elapsed)}\n",
            "Epoch 94, gen loss=1.8966445922851562,disc loss=0.8606809377670288, {hms_string(epoch_elapsed)}\n",
            "Epoch 95, gen loss=1.903710961341858,disc loss=0.8132398724555969, {hms_string(epoch_elapsed)}\n",
            "Epoch 96, gen loss=1.8256689310073853,disc loss=0.8031169772148132, {hms_string(epoch_elapsed)}\n",
            "Epoch 97, gen loss=1.968097448348999,disc loss=0.7750123739242554, {hms_string(epoch_elapsed)}\n",
            "Epoch 98, gen loss=1.8892053365707397,disc loss=0.8476349711418152, {hms_string(epoch_elapsed)}\n",
            "Epoch 99, gen loss=1.8654905557632446,disc loss=0.8448192477226257, {hms_string(epoch_elapsed)}\n",
            "Epoch 100, gen loss=1.8716663122177124,disc loss=0.9205390810966492, {hms_string(epoch_elapsed)}\n",
            "Training time: 0:05:23.04\n"
          ],
          "name": "stdout"
        }
      ]
    },
    {
      "cell_type": "code",
      "metadata": {
        "id": "4rjAY3Pd9kO3",
        "colab": {
          "base_uri": "https://localhost:8080/",
          "height": 266
        },
        "outputId": "64c26cfe-064f-4e7e-edd8-8f4d9e8aef74"
      },
      "source": [
        "\r\n",
        "# generate and plot a fake image\r\n",
        "noise = np.random.rand(1, 100)\r\n",
        "generated_images = generator.predict(noise)\r\n",
        "\r\n",
        "generated_images = 0.5 * generated_images + 0.5\r\n",
        "\r\n",
        "image_count = 0\r\n",
        "plt.axis(False)\r\n",
        "gen_image = generated_images[0]*255\r\n",
        "plt.imshow(gen_image.astype('uint8'))\r\n",
        "# this generated image actually looks a bit like Monet's paintings! Well, at least the colors look alike :)"
      ],
      "execution_count": 21,
      "outputs": [
        {
          "output_type": "execute_result",
          "data": {
            "text/plain": [
              "<matplotlib.image.AxesImage at 0x7fc314238ac8>"
            ]
          },
          "metadata": {
            "tags": []
          },
          "execution_count": 21
        },
        {
          "output_type": "display_data",
          "data": {
            "image/png": "[encoded data removed]",
            "text/plain": [
              "<Figure size 432x288 with 1 Axes>"
            ]
          },
          "metadata": {
            "tags": [],
            "needs_background": "light"
          }
        }
      ]
    },
    {
      "cell_type": "code",
      "metadata": {
        "id": "BLoqZCkQsCcw"
      },
      "source": [
        ""
      ],
      "execution_count": 17,
      "outputs": []
    }
  ]
}